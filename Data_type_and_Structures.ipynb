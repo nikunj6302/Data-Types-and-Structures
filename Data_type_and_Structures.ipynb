{
  "nbformat": 4,
  "nbformat_minor": 0,
  "metadata": {
    "colab": {
      "provenance": []
    },
    "kernelspec": {
      "name": "python3",
      "display_name": "Python 3"
    },
    "language_info": {
      "name": "python"
    }
  },
  "cells": [
    {
      "cell_type": "markdown",
      "source": [
        "#Data type and Stuctures Theory Assignment"
      ],
      "metadata": {
        "id": "W4XMScqSg3sG"
      }
    },
    {
      "cell_type": "markdown",
      "source": [
        "1. What are data structures, and why are they important?\n",
        " -  Data structure is way of organizing and storing data so that it can be accessed and manipulated effeciently.\n",
        "\n",
        "2. Explain the difference between mutable and immutable data type with examples.\n",
        " -  If we can make change ispecialy remove any element from the data type it is called mutabel data type for example list and sets. While if can not remove or make change in any element from the data type it is called immutable data type for example tuple and string.\n",
        "\n",
        "3. What are the main difference between lists and tuples in pytho?\n",
        " -  The main difference between lists and tuple is list can be change so it is mutable while tuple can not be change so it is immutable.\n",
        "\n",
        "4. Describe how dictionaries store data.\n",
        " -  It store the data as key value pair the value store in assosiated key pair in block data.\n",
        "\n",
        "5. Why might you use a set instead of a list in python?\n",
        " -  Set can autometicaly remove any dublicate value. so when we require unorder unique values we might be usse set instead of list.\n",
        "\n",
        "6. What is a string in Python, and how is it different from a list?\n",
        " -  String is a combination of charecters it is not seperated by any commas unlike list seperates. string is immutable unlike list.\n",
        "\n",
        "7. How do tuples ensure data integrity in Python?\n",
        " -  Tuples in Python ensure data integrity primarily through their mmutability. Once a tuple is created, its elements cannot be modified this characteristic guarantees that the data stored within a tuple remains constant throughout its lifecycle\n",
        "\n",
        "8. What is hash table, and how does it relate to dictionaries in Python?\n",
        " -  In Python, dictionaries are implemented using hash tables. When a key-value pair is added to a dictionary, the key is passed through a hash function to determine the index in the underlying hash table where the value will be stored. When retrieving a value, the key is hashed again, and the corresponding index is used to locate the value.\n",
        "\n",
        "9. Can list contain different data types in Python?\n",
        " -  Yes, list can store a heterogeneous data with order mean it can store any data type.\n",
        "\n",
        "10. Explain why strings are immutabel in Python?\n",
        " -  strings are immutable because we can add, remove or change the element or block value of string.\n",
        "\n",
        "11. What advantage do dictionaries offer over lists for certain tasks?\n",
        " -  So it is more efficient to use dictionaries for the searching of elements. Lists are used when it is important to maintain the order of the elements and dealing with data that may get changed in the future\n",
        "\n",
        "12. Describe a sceniario where using a tuple would be preferable over a list.\n",
        " -  If we want the value unchanged like passwords, employee ids etc we used tuple instead of list.\n",
        "\n",
        "13. How do sets hendle duplicate values in Python?\n",
        " - Basicaly set is list of unique value with unorder manner so it will remove duplicate values.\n",
        "\n",
        "14. How does the \"in\" keyword work differently for lists and dictionaries?\n",
        " -  for list we can use \"in\" key word by algorithmic because the keys of list has ordered inegers so we can use like 'for i in list:\" and it will operate with order of key while in dictionaries there is some unique key present so we can not use \"in\" key word like list. we can only use it as a specifice key for specific value and it will reture as true or false.\n",
        "\n",
        "15. Can you modify the elemets of a tuple? Explain why or why not?\n",
        " -  No, you cannot change the elements of a tuple in Python. Tuples are immutable, meaning their contents cannot be changed after they are created.\n",
        "\n",
        "16. What is a nested dictionary, and give example of its use cases?\n",
        " -  A nested dictionary in Python is a dictionary where the values are themselves dictionaries. This allows for representing hierarchical data, where each level of the hierarchy can have its own set of key-value pairs. Nested dictionaries are useful for organizing complex data structures, like to maintain data like a tree where a branch of tree has more branches and those braches has more and more branches.\n",
        "\n",
        "17. Describe the time complexity of accessing elements in a dictionary.\n",
        "  -  \n",
        "\n",
        "18. In What situation are lists preferred over dictionaries?\n",
        " - When we want to access all the values by order of its key we will use list intead of dictionaries.\n",
        "\n",
        "19. Why are dictionaries considered unordered, and how does that affect data retrieval?\n",
        " -  Because dictionaries has key value pair and the key does not have any order to follow so we can not access all the key value orderly we can only access it seperatly.\n",
        "\n",
        "20. Explain the difference between a list and a dictionary in terms of data retrieval.\n",
        "  -  As, I mension above list has order key it has key as integers start with zero with an order so we can access all the key value algorithamic and operate all data but in dictionaty the key has unique and unordered keys so we can not operate all the data by orderly we need operate it separate key vaule."
      ],
      "metadata": {
        "id": "uQpuvuOJhCRO"
      }
    },
    {
      "cell_type": "markdown",
      "source": [
        "#Data type and Stuctures Practical Assignment"
      ],
      "metadata": {
        "id": "XCGK0x1b9Qyh"
      }
    },
    {
      "cell_type": "code",
      "source": [
        "#Ans. 1\n",
        "a = \"Nikunj\"\n",
        "print(a)"
      ],
      "metadata": {
        "id": "__cGZC3-9YpD",
        "colab": {
          "base_uri": "https://localhost:8080/"
        },
        "outputId": "6369cf87-55d0-41ec-bd64-50be5be8dde4"
      },
      "execution_count": 1,
      "outputs": [
        {
          "output_type": "stream",
          "name": "stdout",
          "text": [
            "Nikunj\n"
          ]
        }
      ]
    },
    {
      "cell_type": "code",
      "source": [
        "#Ans. 2\n",
        "b = \"Hello World\"\n",
        "len(b)"
      ],
      "metadata": {
        "colab": {
          "base_uri": "https://localhost:8080/"
        },
        "id": "EmhVAUVH5pig",
        "outputId": "963ad30c-9418-46bf-df80-9bab29bb03e6"
      },
      "execution_count": 2,
      "outputs": [
        {
          "output_type": "execute_result",
          "data": {
            "text/plain": [
              "11"
            ]
          },
          "metadata": {},
          "execution_count": 2
        }
      ]
    },
    {
      "cell_type": "code",
      "source": [
        "#Ans. 3\n",
        "c = \"Python Programming\"\n",
        "print(c[:3])"
      ],
      "metadata": {
        "colab": {
          "base_uri": "https://localhost:8080/"
        },
        "id": "SBKoCoIb5-ux",
        "outputId": "cf099a2d-2b80-4a8e-e678-cf01d39dee4c"
      },
      "execution_count": 5,
      "outputs": [
        {
          "output_type": "stream",
          "name": "stdout",
          "text": [
            "Pyt\n"
          ]
        }
      ]
    },
    {
      "cell_type": "code",
      "source": [
        "#Ans. 4\n",
        "d=\"hello\"\n",
        "print(d.upper())"
      ],
      "metadata": {
        "colab": {
          "base_uri": "https://localhost:8080/"
        },
        "id": "Iq49UygC6N20",
        "outputId": "2b2dc29f-fd68-40f2-b3bd-04c11458d27e"
      },
      "execution_count": 8,
      "outputs": [
        {
          "output_type": "stream",
          "name": "stdout",
          "text": [
            "HELLO\n"
          ]
        }
      ]
    },
    {
      "cell_type": "code",
      "source": [
        "#Ans. 5\n",
        "e = \"I like Apple\"\n",
        "e.replace(\"Apple\",\"Orange\")"
      ],
      "metadata": {
        "colab": {
          "base_uri": "https://localhost:8080/",
          "height": 35
        },
        "id": "p1N962ma6gOZ",
        "outputId": "da55b402-8d4d-492b-bb84-1d9ebd81285c"
      },
      "execution_count": 13,
      "outputs": [
        {
          "output_type": "execute_result",
          "data": {
            "text/plain": [
              "'I like Orange'"
            ],
            "application/vnd.google.colaboratory.intrinsic+json": {
              "type": "string"
            }
          },
          "metadata": {},
          "execution_count": 13
        }
      ]
    },
    {
      "cell_type": "code",
      "source": [
        "#Ans. 6\n",
        "f = list(range(1,6))\n",
        "print(f)"
      ],
      "metadata": {
        "colab": {
          "base_uri": "https://localhost:8080/"
        },
        "id": "vkgwqIWf7Q4_",
        "outputId": "e2384070-3c11-42de-e1b5-2788c1fee40a"
      },
      "execution_count": 19,
      "outputs": [
        {
          "output_type": "stream",
          "name": "stdout",
          "text": [
            "[1, 2, 3, 4, 5]\n"
          ]
        }
      ]
    },
    {
      "cell_type": "code",
      "source": [
        "#Ans. 7\n",
        "g = list(range(1,5))\n",
        "g.append(10)\n",
        "print(g)"
      ],
      "metadata": {
        "colab": {
          "base_uri": "https://localhost:8080/"
        },
        "id": "2qfkoPq_7uaK",
        "outputId": "0e71ca22-d42a-4647-a0d0-ecb954e02af6"
      },
      "execution_count": 20,
      "outputs": [
        {
          "output_type": "stream",
          "name": "stdout",
          "text": [
            "[1, 2, 3, 4, 10]\n"
          ]
        }
      ]
    },
    {
      "cell_type": "code",
      "source": [
        "#Ans. 8\n",
        "h = list(range(1,6))\n",
        "h.remove(3)\n",
        "print(h)"
      ],
      "metadata": {
        "colab": {
          "base_uri": "https://localhost:8080/"
        },
        "id": "maHGkZW58fLw",
        "outputId": "25ca3e0c-8938-4254-d628-5db369d480b4"
      },
      "execution_count": 22,
      "outputs": [
        {
          "output_type": "stream",
          "name": "stdout",
          "text": [
            "[1, 2, 4, 5]\n"
          ]
        }
      ]
    },
    {
      "cell_type": "code",
      "source": [
        "#Ans. 9\n",
        "i = ['a', 'b', 'c', 'd']\n",
        "print(i[1])"
      ],
      "metadata": {
        "colab": {
          "base_uri": "https://localhost:8080/"
        },
        "id": "_jIoGG2-8s56",
        "outputId": "f6e315ac-64e3-473a-e214-80850c5cb52e"
      },
      "execution_count": 23,
      "outputs": [
        {
          "output_type": "stream",
          "name": "stdout",
          "text": [
            "b\n"
          ]
        }
      ]
    },
    {
      "cell_type": "code",
      "source": [
        "#Ans. 10\n",
        "j = list(range(10,60,10))\n",
        "print(j)\n",
        "print(j[::-1])"
      ],
      "metadata": {
        "colab": {
          "base_uri": "https://localhost:8080/"
        },
        "id": "SsjERq2T9FWr",
        "outputId": "901d4a6e-0225-46af-d597-19dd03ad7c59"
      },
      "execution_count": 25,
      "outputs": [
        {
          "output_type": "stream",
          "name": "stdout",
          "text": [
            "[10, 20, 30, 40, 50]\n",
            "[50, 40, 30, 20, 10]\n"
          ]
        }
      ]
    },
    {
      "cell_type": "code",
      "source": [
        "#Ans. 11\n",
        "k = tuple(range(100,400,100))\n",
        "print(k)"
      ],
      "metadata": {
        "colab": {
          "base_uri": "https://localhost:8080/"
        },
        "id": "9kylivkg9Tq6",
        "outputId": "287c49d2-2a00-4efc-abdc-96acfde0f2c0"
      },
      "execution_count": 27,
      "outputs": [
        {
          "output_type": "stream",
          "name": "stdout",
          "text": [
            "(100, 200, 300)\n"
          ]
        }
      ]
    },
    {
      "cell_type": "code",
      "source": [
        "#Ans. 12\n",
        "l = ('red', 'green', 'blue', 'yellow')\n",
        "print(l[1:])"
      ],
      "metadata": {
        "colab": {
          "base_uri": "https://localhost:8080/"
        },
        "id": "UXYE7KmC9qUs",
        "outputId": "127510fe-4e68-4374-a306-370fc44676cb"
      },
      "execution_count": 29,
      "outputs": [
        {
          "output_type": "stream",
          "name": "stdout",
          "text": [
            "('green', 'blue', 'yellow')\n"
          ]
        }
      ]
    },
    {
      "cell_type": "code",
      "source": [
        "#Ans. 13\n",
        "m = (10,20,5,15)\n",
        "print(min(m))"
      ],
      "metadata": {
        "colab": {
          "base_uri": "https://localhost:8080/"
        },
        "id": "7TGJ7c_k979G",
        "outputId": "bc3b0134-1e12-4b04-b259-1362c157820d"
      },
      "execution_count": 33,
      "outputs": [
        {
          "output_type": "stream",
          "name": "stdout",
          "text": [
            "5\n"
          ]
        }
      ]
    },
    {
      "cell_type": "code",
      "source": [
        "#Ans. 14\n",
        "n = ('dog', 'cat', 'rabbit')\n",
        "print(n.index('cat'))"
      ],
      "metadata": {
        "colab": {
          "base_uri": "https://localhost:8080/"
        },
        "id": "rKfqwdgw-PNd",
        "outputId": "bd4313a0-44e8-4aa6-f854-caa7774ea4ae"
      },
      "execution_count": 34,
      "outputs": [
        {
          "output_type": "stream",
          "name": "stdout",
          "text": [
            "1\n"
          ]
        }
      ]
    },
    {
      "cell_type": "code",
      "source": [
        "#Ans.15\n",
        "o = ('Apple', 'Banana', 'Cherry')\n",
        "\n",
        "if 'kiwi' in o:\n",
        "    print('kiwi is present')\n",
        "else:\n",
        "    print('kiwi is not present')"
      ],
      "metadata": {
        "colab": {
          "base_uri": "https://localhost:8080/"
        },
        "id": "szkz0Dy7_A3o",
        "outputId": "8e64dd49-c54f-4322-c1fb-ed8cff580da9"
      },
      "execution_count": 35,
      "outputs": [
        {
          "output_type": "stream",
          "name": "stdout",
          "text": [
            "kiwi is not present\n"
          ]
        }
      ]
    },
    {
      "cell_type": "code",
      "source": [
        "#Ans. 16\n",
        "p = {'a', 'b', 'c'}\n",
        "print(p)"
      ],
      "metadata": {
        "colab": {
          "base_uri": "https://localhost:8080/"
        },
        "id": "GWEYnvDe_Va4",
        "outputId": "bb1fa53a-cf83-4e16-e6b8-2c9721a0b1d6"
      },
      "execution_count": 36,
      "outputs": [
        {
          "output_type": "stream",
          "name": "stdout",
          "text": [
            "{'a', 'c', 'b'}\n"
          ]
        }
      ]
    },
    {
      "cell_type": "code",
      "source": [
        "#Ans. 17\n",
        "q = set(range(1,6))\n",
        "print(q)\n",
        "print(q.clear())"
      ],
      "metadata": {
        "colab": {
          "base_uri": "https://localhost:8080/"
        },
        "id": "UmtKQCMN_kD6",
        "outputId": "edb7b6ec-a20c-4428-dc42-42423225c254"
      },
      "execution_count": 38,
      "outputs": [
        {
          "output_type": "stream",
          "name": "stdout",
          "text": [
            "{1, 2, 3, 4, 5}\n",
            "None\n"
          ]
        }
      ]
    },
    {
      "cell_type": "code",
      "source": [
        "#Ans. 18\n",
        "s = set(range(1,5))\n",
        "print(s)\n",
        "print(s.remove(4))"
      ],
      "metadata": {
        "colab": {
          "base_uri": "https://localhost:8080/"
        },
        "id": "LJulIBam_-ZZ",
        "outputId": "d7db6937-a43d-4786-fccd-c495e3b4759c"
      },
      "execution_count": 44,
      "outputs": [
        {
          "output_type": "stream",
          "name": "stdout",
          "text": [
            "{1, 2, 3, 4}\n",
            "None\n"
          ]
        }
      ]
    },
    {
      "cell_type": "code",
      "source": [
        "#Ans. 19\n",
        "t = set(range(1,4))\n",
        "u = set(range(3,6))\n",
        "print(t|u)"
      ],
      "metadata": {
        "colab": {
          "base_uri": "https://localhost:8080/"
        },
        "id": "G9qOT8GwAk0z",
        "outputId": "02877391-cbdb-46d0-b983-6aa1f93fb4f7"
      },
      "execution_count": 46,
      "outputs": [
        {
          "output_type": "stream",
          "name": "stdout",
          "text": [
            "{1, 2, 3, 4, 5}\n"
          ]
        }
      ]
    },
    {
      "cell_type": "code",
      "source": [
        "#Ans. 20\n",
        "v= set(range(1,4))\n",
        "w = set(range(2,5))\n",
        "print(v&w)"
      ],
      "metadata": {
        "colab": {
          "base_uri": "https://localhost:8080/"
        },
        "id": "SzDsz69ZB3dk",
        "outputId": "d4c62a8e-9419-4a91-df1a-f71fb55f5ea8"
      },
      "execution_count": 47,
      "outputs": [
        {
          "output_type": "stream",
          "name": "stdout",
          "text": [
            "{2, 3}\n"
          ]
        }
      ]
    },
    {
      "cell_type": "code",
      "source": [
        "#Ans. 21\n",
        "x = {\"name\":\"Nikunj\", \"age\":23,\"city\":\"Ahmedabad\"}\n",
        "print(x)"
      ],
      "metadata": {
        "colab": {
          "base_uri": "https://localhost:8080/"
        },
        "id": "rJiUCYqGCL3T",
        "outputId": "2d2c3e9f-59df-481c-dc9c-9295fffe6859"
      },
      "execution_count": 48,
      "outputs": [
        {
          "output_type": "stream",
          "name": "stdout",
          "text": [
            "{'name': 'Nikunj', 'age': 23, 'city': 'Ahmedabad'}\n"
          ]
        }
      ]
    },
    {
      "cell_type": "code",
      "source": [
        "#Ans. 22\n",
        "y = {\"name\":\"John\", \"age\":25}\n",
        "y[\"country\"] = \"USA\"\n",
        "print(y)"
      ],
      "metadata": {
        "colab": {
          "base_uri": "https://localhost:8080/"
        },
        "id": "PqMrt_HuCmcj",
        "outputId": "c0307804-81ef-4ded-9ff4-9fc61c9f9673"
      },
      "execution_count": 49,
      "outputs": [
        {
          "output_type": "stream",
          "name": "stdout",
          "text": [
            "{'name': 'John', 'age': 25, 'country': 'USA'}\n"
          ]
        }
      ]
    },
    {
      "cell_type": "code",
      "source": [
        "#Ans. 23\n",
        "z = {\"name\":\"Alice\", \"age\":30}\n",
        "print(z[\"name\"])"
      ],
      "metadata": {
        "colab": {
          "base_uri": "https://localhost:8080/"
        },
        "id": "kE2j-zHAC77O",
        "outputId": "67df9eda-c794-4e57-b9d6-53c43bebac0a"
      },
      "execution_count": 51,
      "outputs": [
        {
          "output_type": "stream",
          "name": "stdout",
          "text": [
            "Alice\n"
          ]
        }
      ]
    },
    {
      "cell_type": "code",
      "source": [
        "#Ans. 24\n",
        "aa = {\"name\":\"Bob\", \"age\":22, \"city\":\"New York\"}\n",
        "del aa[\"age\"]\n",
        "print(aa)"
      ],
      "metadata": {
        "colab": {
          "base_uri": "https://localhost:8080/"
        },
        "id": "fJK0XeXjDME_",
        "outputId": "67914e1e-1abd-468d-dbe0-40bd1617c734"
      },
      "execution_count": 54,
      "outputs": [
        {
          "output_type": "stream",
          "name": "stdout",
          "text": [
            "{'name': 'Bob', 'city': 'New York'}\n"
          ]
        }
      ]
    },
    {
      "cell_type": "code",
      "source": [
        "#Ans. 25\n",
        "ab = {\"name\":\"Alice\", \"city\":\"Paris\"}\n",
        "if \"city\" in ab:\n",
        "  print(\"city is\", ab[\"city\"])\n",
        "else:\n",
        "  print(\"city is not present\")"
      ],
      "metadata": {
        "colab": {
          "base_uri": "https://localhost:8080/"
        },
        "id": "PyFLF-k2D0Dk",
        "outputId": "4ab71e25-63ae-4a7d-b9b6-5d1376d91525"
      },
      "execution_count": 58,
      "outputs": [
        {
          "output_type": "stream",
          "name": "stdout",
          "text": [
            "city is Paris\n"
          ]
        }
      ]
    },
    {
      "cell_type": "code",
      "source": [
        "#Ans. 26\n",
        "ac = list(range(1,11))\n",
        "print(ac)\n",
        "ad = (tuple(ac))\n",
        "print(ad)\n",
        "af = { }\n",
        "\n",
        "for i,j in zip(ac,ad):\n",
        "  af[i]=j\n",
        "print(af)"
      ],
      "metadata": {
        "colab": {
          "base_uri": "https://localhost:8080/"
        },
        "id": "9QmkK3IDE2LD",
        "outputId": "b7a355c0-d827-4d0f-bc4c-202c5ef01626"
      },
      "execution_count": 12,
      "outputs": [
        {
          "output_type": "stream",
          "name": "stdout",
          "text": [
            "[1, 2, 3, 4, 5, 6, 7, 8, 9, 10]\n",
            "(1, 2, 3, 4, 5, 6, 7, 8, 9, 10)\n",
            "{1: 1, 2: 2, 3: 3, 4: 4, 5: 5, 6: 6, 7: 7, 8: 8, 9: 9, 10: 10}\n"
          ]
        }
      ]
    },
    {
      "cell_type": "code",
      "source": [
        "#Ans. 27\n"
      ],
      "metadata": {
        "id": "p0b8VkbeatyM"
      },
      "execution_count": 13,
      "outputs": []
    },
    {
      "cell_type": "code",
      "source": [
        "#Ans. 28\n",
        "ag = [\"mango\", \"table\", \"pen\", \"book\" ,\"laptop\", \"mobile\"]\n",
        "print(ag[3])"
      ],
      "metadata": {
        "colab": {
          "base_uri": "https://localhost:8080/"
        },
        "id": "4lFBoYDKgA_X",
        "outputId": "978a76d1-b8f0-47b0-c18e-49544fede530"
      },
      "execution_count": 14,
      "outputs": [
        {
          "output_type": "stream",
          "name": "stdout",
          "text": [
            "book\n"
          ]
        }
      ]
    },
    {
      "cell_type": "code",
      "source": [
        "#Ans. 29\n",
        "ah = {\"number\":{1:\"one\", 2: \"two\", 3:\"three\"},\n",
        "     \"alphabet\":{1:\"A\", 2:\"B\", 3:\"C\"},\n",
        "      \"Roman number\":{1:\"I\",2:\"II\",3:\"III\"}}\n",
        "for i in ah:\n",
        "  print(i, \":\",  ah[i])"
      ],
      "metadata": {
        "colab": {
          "base_uri": "https://localhost:8080/"
        },
        "id": "j9dfO9nRgbx5",
        "outputId": "3fa08010-a551-41ed-ce04-8a02cba51c0f"
      },
      "execution_count": 35,
      "outputs": [
        {
          "output_type": "stream",
          "name": "stdout",
          "text": [
            "number : {1: 'one', 2: 'two', 3: 'three'}\n",
            "alphabet : {1: 'A', 2: 'B', 3: 'C'}\n",
            "Roman number : {1: 'I', 2: 'II', 3: 'III'}\n"
          ]
        }
      ]
    },
    {
      "cell_type": "code",
      "source": [
        "#Ans. 30\"\n",
        "ai = [\"mango\", \"table\", \"pen\", \"book\" ,\"laptop\", \"mobile\", \"mango\", \"table\", \"Banna\", \"pages\", \"pen\"]\n",
        "aj = set(ai)\n",
        "print(ai)\n",
        "print(aj)"
      ],
      "metadata": {
        "colab": {
          "base_uri": "https://localhost:8080/"
        },
        "id": "F0YGEVuohj50",
        "outputId": "6dd30569-3e83-4dc0-c79d-6a33d42a3ee2"
      },
      "execution_count": 36,
      "outputs": [
        {
          "output_type": "stream",
          "name": "stdout",
          "text": [
            "['mango', 'table', 'pen', 'book', 'laptop', 'mobile', 'mango', 'table', 'Banna', 'pages', 'pen']\n",
            "{'mango', 'mobile', 'laptop', 'book', 'table', 'Banna', 'pen', 'pages'}\n"
          ]
        }
      ]
    },
    {
      "cell_type": "code",
      "source": [],
      "metadata": {
        "id": "HLOHcCRfkPHz"
      },
      "execution_count": null,
      "outputs": []
    }
  ]
}